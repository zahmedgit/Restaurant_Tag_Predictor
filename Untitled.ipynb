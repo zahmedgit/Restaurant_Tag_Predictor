{
 "cells": [
  {
   "cell_type": "code",
   "execution_count": 63,
   "metadata": {},
   "outputs": [],
   "source": [
    "import requests \n",
    "import pandas as pd \n",
    "import json \n",
    "import numpy as np\n",
    "import pprint\n",
    "from bs4 import BeautifulSoup\n",
    "import time\n",
    "import re"
   ]
  },
  {
   "cell_type": "code",
   "execution_count": 2,
   "metadata": {},
   "outputs": [],
   "source": [
    "#creating a header file to \n",
    "header = {'user-agent': 'Mozilla/5.0 (Macintosh; Intel Mac OS X 10_15_4) AppleWebKit/537.36 (KHTML, like Gecko) Chrome/80.0.3987.163 Safari/537.36'}   "
   ]
  },
  {
   "cell_type": "code",
   "execution_count": 3,
   "metadata": {},
   "outputs": [],
   "source": [
    "# Write a function to make a call to the yelp API"
   ]
  },
  {
   "cell_type": "code",
   "execution_count": 37,
   "metadata": {},
   "outputs": [],
   "source": [
    "from keys import client_id,api_key\n",
    "url =  'https://api.yelp.com/v3/businesses/search'\n",
    "term='Restaurants'\n",
    "location='Brooklyn'\n",
    "\n",
    "url_params={\n",
    "    'term': term.replace(' ','+'),\n",
    "    'location': location.replace(' ','+'),\n",
    "    'limit': 50\n",
    "}\n",
    "\n"
   ]
  },
  {
   "cell_type": "code",
   "execution_count": 18,
   "metadata": {},
   "outputs": [],
   "source": [
    "def yelp_call(url_params, api_key):\n",
    "    # your code to make the yelp call\n",
    "    headers = {\n",
    "        'Authorization': 'Bearer {}'.format(api_key),\n",
    "    }\n",
    "    data= requests.get(url, headers=headers, params=url_params)\n",
    "    return data"
   ]
  },
  {
   "cell_type": "code",
   "execution_count": 19,
   "metadata": {},
   "outputs": [
    {
     "data": {
      "text/plain": [
       "200"
      ]
     },
     "execution_count": 19,
     "metadata": {},
     "output_type": "execute_result"
    }
   ],
   "source": [
    "response = yelp_call(url_params, api_key)\n",
    "response.status_code"
   ]
  },
  {
   "cell_type": "code",
   "execution_count": 7,
   "metadata": {},
   "outputs": [
    {
     "data": {
      "text/plain": [
       "dict_keys(['businesses', 'total', 'region'])"
      ]
     },
     "execution_count": 7,
     "metadata": {},
     "output_type": "execute_result"
    }
   ],
   "source": [
    "response.json().keys()"
   ]
  },
  {
   "cell_type": "code",
   "execution_count": 20,
   "metadata": {},
   "outputs": [
    {
     "data": {
      "text/plain": [
       "22500"
      ]
     },
     "execution_count": 20,
     "metadata": {},
     "output_type": "execute_result"
    }
   ],
   "source": [
    "response.json()['total']"
   ]
  },
  {
   "cell_type": "code",
   "execution_count": 3,
   "metadata": {},
   "outputs": [],
   "source": [
    "# write a function to parse the API response \n",
    "# so that you can easily insert the data in to the DB\n"
   ]
  },
  {
   "cell_type": "code",
   "execution_count": 48,
   "metadata": {},
   "outputs": [
    {
     "data": {
      "text/plain": [
       "dict_keys(['id', 'alias', 'name', 'image_url', 'is_closed', 'url', 'review_count', 'categories', 'rating', 'coordinates', 'transactions', 'location', 'phone', 'display_phone', 'distance'])"
      ]
     },
     "execution_count": 48,
     "metadata": {},
     "output_type": "execute_result"
    }
   ],
   "source": [
    "data=response.json()['businesses']\n",
    "data[0].keys()"
   ]
  },
  {
   "cell_type": "code",
   "execution_count": 26,
   "metadata": {},
   "outputs": [],
   "source": [
    "def parse_results(results):\n",
    "    # your code to parse the result to make them easier to insert into the DB\n",
    "    # create a container to hold our parsed data\n",
    "    parsed_data = []\n",
    "    businesses = results.json()['businesses']\n",
    "    # loop through our business and parse each individual business\n",
    "    for business in businesses:\n",
    "        #print(business['name'])\n",
    "        if 'price' in list(business.keys()):\n",
    "            biz_list = [\n",
    "                business['id'],\n",
    "                business['name'], \n",
    "                business['url'],\n",
    "                business['review_count'],\n",
    "                [x['alias'] for x in business['categories']],\n",
    "                business['rating'],\n",
    "                business['price']\n",
    "            ]\n",
    "        else:\n",
    "            biz_list = [\n",
    "                business['id'],\n",
    "                business['name'], \n",
    "                business['url'],\n",
    "                business['review_count'],\n",
    "                [x['alias'] for x in business['categories']],\n",
    "                business['rating'],\n",
    "                np.nan\n",
    "            ]\n",
    "    # in the loop, add each individual parsed  business to our data container\n",
    "        parsed_data.append(biz_list)\n",
    "    return parsed_data"
   ]
  },
  {
   "cell_type": "code",
   "execution_count": 27,
   "metadata": {},
   "outputs": [],
   "source": [
    "parsed_data=parse_results(response)"
   ]
  },
  {
   "cell_type": "code",
   "execution_count": 28,
   "metadata": {},
   "outputs": [
    {
     "data": {
      "text/plain": [
       "[['V7lXZKBDzScDeGB8JmnzSA',\n",
       "  \"Katz's Delicatessen\",\n",
       "  'https://www.yelp.com/biz/katzs-delicatessen-new-york?adjust_creative=iiD4cWOR-Fz3fX4le1knTg&utm_campaign=yelp_api_v3&utm_medium=api_v3_business_search&utm_source=iiD4cWOR-Fz3fX4le1knTg',\n",
       "  12280,\n",
       "  ['delis', 'sandwiches', 'catering'],\n",
       "  4.0,\n",
       "  '$$'],\n",
       " ['44SY464xDHbvOcjDzRbKkQ',\n",
       "  'Ippudo NY',\n",
       "  'https://www.yelp.com/biz/ippudo-ny-new-york-7?adjust_creative=iiD4cWOR-Fz3fX4le1knTg&utm_campaign=yelp_api_v3&utm_medium=api_v3_business_search&utm_source=iiD4cWOR-Fz3fX4le1knTg',\n",
       "  9970,\n",
       "  ['ramen'],\n",
       "  4.0,\n",
       "  '$$'],\n",
       " ['xEnNFXtMLDF5kZDxfaCJgA',\n",
       "  'The Halal Guys',\n",
       "  'https://www.yelp.com/biz/the-halal-guys-new-york-2?adjust_creative=iiD4cWOR-Fz3fX4le1knTg&utm_campaign=yelp_api_v3&utm_medium=api_v3_business_search&utm_source=iiD4cWOR-Fz3fX4le1knTg',\n",
       "  9457,\n",
       "  ['foodstands', 'mideastern', 'halal'],\n",
       "  4.0,\n",
       "  '$'],\n",
       " ['0CjK3esfpFcxIopebzjFxA',\n",
       "  \"Joe's Shanghai\",\n",
       "  'https://www.yelp.com/biz/joes-shanghai-new-york-2?adjust_creative=iiD4cWOR-Fz3fX4le1knTg&utm_campaign=yelp_api_v3&utm_medium=api_v3_business_search&utm_source=iiD4cWOR-Fz3fX4le1knTg',\n",
       "  6170,\n",
       "  ['shanghainese', 'seafood', 'noodles'],\n",
       "  4.0,\n",
       "  '$$'],\n",
       " ['WIhm0W9197f_rRtDziq5qQ',\n",
       "  \"Lombardi's Pizza\",\n",
       "  'https://www.yelp.com/biz/lombardis-pizza-new-york-4?adjust_creative=iiD4cWOR-Fz3fX4le1knTg&utm_campaign=yelp_api_v3&utm_medium=api_v3_business_search&utm_source=iiD4cWOR-Fz3fX4le1knTg',\n",
       "  6097,\n",
       "  ['pizza'],\n",
       "  4.0,\n",
       "  '$$'],\n",
       " ['4yPqqJDJOQX69gC66YUDkA',\n",
       "  'Peter Luger',\n",
       "  'https://www.yelp.com/biz/peter-luger-brooklyn-2?adjust_creative=iiD4cWOR-Fz3fX4le1knTg&utm_campaign=yelp_api_v3&utm_medium=api_v3_business_search&utm_source=iiD4cWOR-Fz3fX4le1knTg',\n",
       "  5739,\n",
       "  ['steak'],\n",
       "  4.0,\n",
       "  '$$$$'],\n",
       " ['FEVQpbOPOwAPNIgO7D3xxw',\n",
       "  'Shake Shack',\n",
       "  'https://www.yelp.com/biz/shake-shack-new-york-2?adjust_creative=iiD4cWOR-Fz3fX4le1knTg&utm_campaign=yelp_api_v3&utm_medium=api_v3_business_search&utm_source=iiD4cWOR-Fz3fX4le1knTg',\n",
       "  5579,\n",
       "  ['burgers', 'foodstands', 'icecream'],\n",
       "  4.0,\n",
       "  '$$'],\n",
       " ['a0IET3_yCFcO36OqGSsisg',\n",
       "  'Eataly NYC Flatiron',\n",
       "  'https://www.yelp.com/biz/eataly-nyc-flatiron-new-york?adjust_creative=iiD4cWOR-Fz3fX4le1knTg&utm_campaign=yelp_api_v3&utm_medium=api_v3_business_search&utm_source=iiD4cWOR-Fz3fX4le1knTg',\n",
       "  5506,\n",
       "  ['italian', 'grocery', 'cafes'],\n",
       "  4.0,\n",
       "  '$$'],\n",
       " ['QbAfrOxbuYKU248SDXHZEQ',\n",
       "  'Totto Ramen',\n",
       "  'https://www.yelp.com/biz/totto-ramen-new-york-15?adjust_creative=iiD4cWOR-Fz3fX4le1knTg&utm_campaign=yelp_api_v3&utm_medium=api_v3_business_search&utm_source=iiD4cWOR-Fz3fX4le1knTg',\n",
       "  5462,\n",
       "  ['ramen'],\n",
       "  4.0,\n",
       "  '$$'],\n",
       " ['UA2M9QFZghe-9th2KwLoWQ',\n",
       "  'Burger & Lobster',\n",
       "  'https://www.yelp.com/biz/burger-and-lobster-new-york-4?adjust_creative=iiD4cWOR-Fz3fX4le1knTg&utm_campaign=yelp_api_v3&utm_medium=api_v3_business_search&utm_source=iiD4cWOR-Fz3fX4le1knTg',\n",
       "  5436,\n",
       "  ['seafood', 'burgers', 'newamerican'],\n",
       "  4.0,\n",
       "  '$$'],\n",
       " ['nU4XBdvxDABXqZ6CnB8Dig',\n",
       "  'Clinton Street Baking Company',\n",
       "  'https://www.yelp.com/biz/clinton-street-baking-company-new-york-5?adjust_creative=iiD4cWOR-Fz3fX4le1knTg&utm_campaign=yelp_api_v3&utm_medium=api_v3_business_search&utm_source=iiD4cWOR-Fz3fX4le1knTg',\n",
       "  5066,\n",
       "  ['bakeries', 'breakfast_brunch', 'tradamerican'],\n",
       "  4.0,\n",
       "  '$$'],\n",
       " ['jjJc_CrkB2HodEinB6cWww',\n",
       "  'LoveMama',\n",
       "  'https://www.yelp.com/biz/lovemama-new-york?adjust_creative=iiD4cWOR-Fz3fX4le1knTg&utm_campaign=yelp_api_v3&utm_medium=api_v3_business_search&utm_source=iiD4cWOR-Fz3fX4le1knTg',\n",
       "  4994,\n",
       "  ['thai', 'malaysian', 'vietnamese'],\n",
       "  4.5,\n",
       "  '$$'],\n",
       " ['vbvtWBbO3Q-Q15w7aHxgVg',\n",
       "  'Max Brenner - New York',\n",
       "  'https://www.yelp.com/biz/max-brenner-new-york-new-york-2?adjust_creative=iiD4cWOR-Fz3fX4le1knTg&utm_campaign=yelp_api_v3&utm_medium=api_v3_business_search&utm_source=iiD4cWOR-Fz3fX4le1knTg',\n",
       "  4664,\n",
       "  ['desserts', 'tradamerican', 'breakfast_brunch'],\n",
       "  3.5,\n",
       "  '$$'],\n",
       " ['U5hCNNyJmb7f3dmC1HTzSQ',\n",
       "  \"Junior's Restaurant & Bakery - 45th St.\",\n",
       "  'https://www.yelp.com/biz/juniors-restaurant-and-bakery-45th-st-new-york?adjust_creative=iiD4cWOR-Fz3fX4le1knTg&utm_campaign=yelp_api_v3&utm_medium=api_v3_business_search&utm_source=iiD4cWOR-Fz3fX4le1knTg',\n",
       "  4621,\n",
       "  ['bakeries', 'breakfast_brunch', 'burgers'],\n",
       "  4.0,\n",
       "  '$$'],\n",
       " ['2ggi1luerd3Mf_C82JvCYg',\n",
       "  \"Grimaldi's Pizzeria\",\n",
       "  'https://www.yelp.com/biz/grimaldis-pizzeria-brooklyn-4?adjust_creative=iiD4cWOR-Fz3fX4le1knTg&utm_campaign=yelp_api_v3&utm_medium=api_v3_business_search&utm_source=iiD4cWOR-Fz3fX4le1knTg',\n",
       "  4603,\n",
       "  ['pizza'],\n",
       "  3.5,\n",
       "  '$$'],\n",
       " ['HfJhenvKDi-ds8SUJFwrLg',\n",
       "  'Momofuku Noodle Bar',\n",
       "  'https://www.yelp.com/biz/momofuku-noodle-bar-new-york?adjust_creative=iiD4cWOR-Fz3fX4le1knTg&utm_campaign=yelp_api_v3&utm_medium=api_v3_business_search&utm_source=iiD4cWOR-Fz3fX4le1knTg',\n",
       "  4269,\n",
       "  ['ramen', 'newamerican'],\n",
       "  3.5,\n",
       "  '$$'],\n",
       " ['_tHF8-3rbyMesgdkQzB2yQ',\n",
       "  'Serendipity 3',\n",
       "  'https://www.yelp.com/biz/serendipity-3-new-york?adjust_creative=iiD4cWOR-Fz3fX4le1knTg&utm_campaign=yelp_api_v3&utm_medium=api_v3_business_search&utm_source=iiD4cWOR-Fz3fX4le1knTg',\n",
       "  4230,\n",
       "  ['desserts', 'newamerican'],\n",
       "  3.0,\n",
       "  '$$'],\n",
       " ['xt4sa64WOrpJvZBDPNPNYg',\n",
       "  \"Jacob's Pickles\",\n",
       "  'https://www.yelp.com/biz/jacobs-pickles-new-york?adjust_creative=iiD4cWOR-Fz3fX4le1knTg&utm_campaign=yelp_api_v3&utm_medium=api_v3_business_search&utm_source=iiD4cWOR-Fz3fX4le1knTg',\n",
       "  4144,\n",
       "  ['comfortfood', 'southern', 'tradamerican'],\n",
       "  4.0,\n",
       "  '$$'],\n",
       " ['nI1UYDCYUTt23TpGxqnLKg',\n",
       "  'Buddakan',\n",
       "  'https://www.yelp.com/biz/buddakan-new-york?adjust_creative=iiD4cWOR-Fz3fX4le1knTg&utm_campaign=yelp_api_v3&utm_medium=api_v3_business_search&utm_source=iiD4cWOR-Fz3fX4le1knTg',\n",
       "  3972,\n",
       "  ['chinese', 'bars', 'asianfusion'],\n",
       "  4.0,\n",
       "  '$$$'],\n",
       " ['vfYhEpp0x-DrNjC6GSJjPQ',\n",
       "  \"Artichoke Basille's Pizza\",\n",
       "  'https://www.yelp.com/biz/artichoke-basilles-pizza-new-york-2?adjust_creative=iiD4cWOR-Fz3fX4le1knTg&utm_campaign=yelp_api_v3&utm_medium=api_v3_business_search&utm_source=iiD4cWOR-Fz3fX4le1knTg',\n",
       "  3960,\n",
       "  ['pizza'],\n",
       "  4.0,\n",
       "  '$'],\n",
       " ['22nKUyCIbpnzR6R3_g1ptQ',\n",
       "  \"Carmine's Italian Restaurant - Times Square\",\n",
       "  'https://www.yelp.com/biz/carmines-italian-restaurant-times-square-new-york-5?adjust_creative=iiD4cWOR-Fz3fX4le1knTg&utm_campaign=yelp_api_v3&utm_medium=api_v3_business_search&utm_source=iiD4cWOR-Fz3fX4le1knTg',\n",
       "  3776,\n",
       "  ['italian', 'catering', 'venues'],\n",
       "  4.0,\n",
       "  '$$'],\n",
       " ['vyoA8dxwScuMV_AsTcjQcg',\n",
       "  'L & B Spumoni Gardens',\n",
       "  'https://www.yelp.com/biz/l-and-b-spumoni-gardens-brooklyn?adjust_creative=iiD4cWOR-Fz3fX4le1knTg&utm_campaign=yelp_api_v3&utm_medium=api_v3_business_search&utm_source=iiD4cWOR-Fz3fX4le1knTg',\n",
       "  3751,\n",
       "  ['pizza', 'italian'],\n",
       "  4.0,\n",
       "  '$'],\n",
       " ['TN4RnyqHMSupRFot4Q-_EA',\n",
       "  'Ippudo Westside',\n",
       "  'https://www.yelp.com/biz/ippudo-westside-new-york?adjust_creative=iiD4cWOR-Fz3fX4le1knTg&utm_campaign=yelp_api_v3&utm_medium=api_v3_business_search&utm_source=iiD4cWOR-Fz3fX4le1knTg',\n",
       "  3672,\n",
       "  ['ramen'],\n",
       "  4.0,\n",
       "  '$$'],\n",
       " ['c3eMI4_o4dPDDhPV_ibBYQ',\n",
       "  'Ess-a-Bagel',\n",
       "  'https://www.yelp.com/biz/ess-a-bagel-new-york?adjust_creative=iiD4cWOR-Fz3fX4le1knTg&utm_campaign=yelp_api_v3&utm_medium=api_v3_business_search&utm_source=iiD4cWOR-Fz3fX4le1knTg',\n",
       "  3594,\n",
       "  ['bakeries', 'bagels', 'delis'],\n",
       "  4.0,\n",
       "  '$'],\n",
       " ['zj8Lq1T8KIC5zwFief15jg',\n",
       "  'Prince Street Pizza',\n",
       "  'https://www.yelp.com/biz/prince-street-pizza-new-york-2?adjust_creative=iiD4cWOR-Fz3fX4le1knTg&utm_campaign=yelp_api_v3&utm_medium=api_v3_business_search&utm_source=iiD4cWOR-Fz3fX4le1knTg',\n",
       "  3557,\n",
       "  ['pizza', 'italian'],\n",
       "  4.5,\n",
       "  '$'],\n",
       " ['kBZggrnSP1kcUMnsnfkTaQ',\n",
       "  'Nan Xiang Xiao Long Bao',\n",
       "  'https://www.yelp.com/biz/nan-xiang-xiao-long-bao-flushing?adjust_creative=iiD4cWOR-Fz3fX4le1knTg&utm_campaign=yelp_api_v3&utm_medium=api_v3_business_search&utm_source=iiD4cWOR-Fz3fX4le1knTg',\n",
       "  3555,\n",
       "  ['shanghainese', 'gourmet', 'noodles'],\n",
       "  4.0,\n",
       "  '$'],\n",
       " ['pfmAcS-g6SiNG0KlLvrqnA',\n",
       "  'Beauty & Essex',\n",
       "  'https://www.yelp.com/biz/beauty-and-essex-new-york-2?adjust_creative=iiD4cWOR-Fz3fX4le1knTg&utm_campaign=yelp_api_v3&utm_medium=api_v3_business_search&utm_source=iiD4cWOR-Fz3fX4le1knTg',\n",
       "  3502,\n",
       "  ['newamerican'],\n",
       "  4.0,\n",
       "  '$$$'],\n",
       " ['C8j0q4Ma_S5hBGuAI-aaww',\n",
       "  'Di Fara Pizza',\n",
       "  'https://www.yelp.com/biz/di-fara-pizza-brooklyn?adjust_creative=iiD4cWOR-Fz3fX4le1knTg&utm_campaign=yelp_api_v3&utm_medium=api_v3_business_search&utm_source=iiD4cWOR-Fz3fX4le1knTg',\n",
       "  3465,\n",
       "  ['pizza'],\n",
       "  4.0,\n",
       "  '$$'],\n",
       " ['B3_K2kUVbYOU0VaLcj_LTw',\n",
       "  'Thai Villa',\n",
       "  'https://www.yelp.com/biz/thai-villa-new-york-2?adjust_creative=iiD4cWOR-Fz3fX4le1knTg&utm_campaign=yelp_api_v3&utm_medium=api_v3_business_search&utm_source=iiD4cWOR-Fz3fX4le1knTg',\n",
       "  3353,\n",
       "  ['thai', 'asianfusion'],\n",
       "  4.5,\n",
       "  '$$'],\n",
       " ['j1S3NUrkB3BVT49n_e76NQ',\n",
       "  'Best Bagel & Coffee',\n",
       "  'https://www.yelp.com/biz/best-bagel-and-coffee-new-york?adjust_creative=iiD4cWOR-Fz3fX4le1knTg&utm_campaign=yelp_api_v3&utm_medium=api_v3_business_search&utm_source=iiD4cWOR-Fz3fX4le1knTg',\n",
       "  3309,\n",
       "  ['bagels', 'coffee', 'breakfast_brunch'],\n",
       "  4.5,\n",
       "  '$'],\n",
       " ['UXVDyIzmO5kmJnlv-HDXLg',\n",
       "  'Cafeteria',\n",
       "  'https://www.yelp.com/biz/cafeteria-new-york?adjust_creative=iiD4cWOR-Fz3fX4le1knTg&utm_campaign=yelp_api_v3&utm_medium=api_v3_business_search&utm_source=iiD4cWOR-Fz3fX4le1knTg',\n",
       "  3302,\n",
       "  ['newamerican', 'cocktailbars', 'comfortfood'],\n",
       "  3.5,\n",
       "  '$$'],\n",
       " ['fxGpXRxFUDzlU3Cyszu4uQ',\n",
       "  'Red Rooster Harlem',\n",
       "  'https://www.yelp.com/biz/red-rooster-harlem-new-york-3?adjust_creative=iiD4cWOR-Fz3fX4le1knTg&utm_campaign=yelp_api_v3&utm_medium=api_v3_business_search&utm_source=iiD4cWOR-Fz3fX4le1knTg',\n",
       "  3243,\n",
       "  ['tradamerican'],\n",
       "  3.5,\n",
       "  '$$$'],\n",
       " ['uoT2_Wrt1noD6kZOID7tUg',\n",
       "  'Jane',\n",
       "  'https://www.yelp.com/biz/jane-new-york-2?adjust_creative=iiD4cWOR-Fz3fX4le1knTg&utm_campaign=yelp_api_v3&utm_medium=api_v3_business_search&utm_source=iiD4cWOR-Fz3fX4le1knTg',\n",
       "  3150,\n",
       "  ['breakfast_brunch', 'newamerican', 'bars'],\n",
       "  4.0,\n",
       "  '$$'],\n",
       " ['Hh9glEE_xDYT_pPUsRPXlA',\n",
       "  'Blend on the Water',\n",
       "  'https://www.yelp.com/biz/blend-on-the-water-long-island-city?adjust_creative=iiD4cWOR-Fz3fX4le1knTg&utm_campaign=yelp_api_v3&utm_medium=api_v3_business_search&utm_source=iiD4cWOR-Fz3fX4le1knTg',\n",
       "  3150,\n",
       "  ['latin', 'breakfast_brunch', 'lounges'],\n",
       "  4.0,\n",
       "  '$$'],\n",
       " ['NOh24SMS6k4pzNv8Ds7KDg',\n",
       "  'Cafe Habana',\n",
       "  'https://www.yelp.com/biz/cafe-habana-new-york-4?adjust_creative=iiD4cWOR-Fz3fX4le1knTg&utm_campaign=yelp_api_v3&utm_medium=api_v3_business_search&utm_source=iiD4cWOR-Fz3fX4le1knTg',\n",
       "  3150,\n",
       "  ['cuban', 'mexican'],\n",
       "  4.0,\n",
       "  '$$'],\n",
       " ['KgpOYAG-r_eDsQXFXt0nnQ',\n",
       "  'Balthazar Restaurant',\n",
       "  'https://www.yelp.com/biz/balthazar-restaurant-new-york?adjust_creative=iiD4cWOR-Fz3fX4le1knTg&utm_campaign=yelp_api_v3&utm_medium=api_v3_business_search&utm_source=iiD4cWOR-Fz3fX4le1knTg',\n",
       "  3089,\n",
       "  ['french', 'breakfast_brunch'],\n",
       "  4.0,\n",
       "  '$$$'],\n",
       " ['QVWmn5jmy_TPmg0G71Dk5g',\n",
       "  'Sea',\n",
       "  'https://www.yelp.com/biz/sea-brooklyn-2?adjust_creative=iiD4cWOR-Fz3fX4le1knTg&utm_campaign=yelp_api_v3&utm_medium=api_v3_business_search&utm_source=iiD4cWOR-Fz3fX4le1knTg',\n",
       "  3076,\n",
       "  ['thai', 'cocktailbars'],\n",
       "  3.5,\n",
       "  '$$'],\n",
       " ['t1w4qyqyfEdTPhoy-5t3FA',\n",
       "  'Morimoto',\n",
       "  'https://www.yelp.com/biz/morimoto-new-york?adjust_creative=iiD4cWOR-Fz3fX4le1knTg&utm_campaign=yelp_api_v3&utm_medium=api_v3_business_search&utm_source=iiD4cWOR-Fz3fX4le1knTg',\n",
       "  3056,\n",
       "  ['japanese', 'sushi'],\n",
       "  4.0,\n",
       "  '$$$$'],\n",
       " ['bL6gcUWgFt7mOZYT_FaGSg',\n",
       "  'Shake Shack',\n",
       "  'https://www.yelp.com/biz/shake-shack-new-york-9?adjust_creative=iiD4cWOR-Fz3fX4le1knTg&utm_campaign=yelp_api_v3&utm_medium=api_v3_business_search&utm_source=iiD4cWOR-Fz3fX4le1knTg',\n",
       "  3026,\n",
       "  ['burgers', 'icecream'],\n",
       "  4.0,\n",
       "  '$$'],\n",
       " ['b8a-8u_A51v2IzyjLVsx6w',\n",
       "  \"Del Frisco's Double Eagle Steakhouse\",\n",
       "  'https://www.yelp.com/biz/del-friscos-double-eagle-steakhouse-new-york?adjust_creative=iiD4cWOR-Fz3fX4le1knTg&utm_campaign=yelp_api_v3&utm_medium=api_v3_business_search&utm_source=iiD4cWOR-Fz3fX4le1knTg',\n",
       "  2983,\n",
       "  ['steak', 'newamerican', 'seafood'],\n",
       "  4.5,\n",
       "  '$$$$'],\n",
       " ['dMhRafXdr765DHe0k-QfaQ',\n",
       "  'ABC Kitchen',\n",
       "  'https://www.yelp.com/biz/abc-kitchen-new-york?adjust_creative=iiD4cWOR-Fz3fX4le1knTg&utm_campaign=yelp_api_v3&utm_medium=api_v3_business_search&utm_source=iiD4cWOR-Fz3fX4le1knTg',\n",
       "  2969,\n",
       "  ['newamerican', 'french'],\n",
       "  4.0,\n",
       "  '$$$'],\n",
       " ['jnEv25Y2DosTq2sNnvmC9g',\n",
       "  'Los Tacos No.1',\n",
       "  'https://www.yelp.com/biz/los-tacos-no-1-new-york?adjust_creative=iiD4cWOR-Fz3fX4le1knTg&utm_campaign=yelp_api_v3&utm_medium=api_v3_business_search&utm_source=iiD4cWOR-Fz3fX4le1knTg',\n",
       "  2967,\n",
       "  ['tacos'],\n",
       "  4.5,\n",
       "  '$'],\n",
       " ['j9TdOBSQ1LRw8v3hW5fObQ',\n",
       "  'Pies-n-Thighs',\n",
       "  'https://www.yelp.com/biz/pies-n-thighs-brooklyn?adjust_creative=iiD4cWOR-Fz3fX4le1knTg&utm_campaign=yelp_api_v3&utm_medium=api_v3_business_search&utm_source=iiD4cWOR-Fz3fX4le1knTg',\n",
       "  2902,\n",
       "  ['southern', 'bbq', 'breakfast_brunch'],\n",
       "  4.0,\n",
       "  '$$'],\n",
       " ['veq1Bl1DW3UWMekZJUsG1Q',\n",
       "  'Gramercy Tavern',\n",
       "  'https://www.yelp.com/biz/gramercy-tavern-new-york?adjust_creative=iiD4cWOR-Fz3fX4le1knTg&utm_campaign=yelp_api_v3&utm_medium=api_v3_business_search&utm_source=iiD4cWOR-Fz3fX4le1knTg',\n",
       "  2896,\n",
       "  ['newamerican'],\n",
       "  4.5,\n",
       "  '$$$$'],\n",
       " ['QObHX0yR6zd0WfksRDbJTA',\n",
       "  'Becco',\n",
       "  'https://www.yelp.com/biz/becco-new-york-4?adjust_creative=iiD4cWOR-Fz3fX4le1knTg&utm_campaign=yelp_api_v3&utm_medium=api_v3_business_search&utm_source=iiD4cWOR-Fz3fX4le1knTg',\n",
       "  2856,\n",
       "  ['italian'],\n",
       "  3.5,\n",
       "  '$$$'],\n",
       " ['FhXjAc6nKLf414KxYujUHw',\n",
       "  \"Roberta's\",\n",
       "  'https://www.yelp.com/biz/robertas-brooklyn-2?adjust_creative=iiD4cWOR-Fz3fX4le1knTg&utm_campaign=yelp_api_v3&utm_medium=api_v3_business_search&utm_source=iiD4cWOR-Fz3fX4le1knTg',\n",
       "  2851,\n",
       "  ['pizza', 'italian'],\n",
       "  4.0,\n",
       "  '$$'],\n",
       " ['A_YpTLbAlEqeLVSs9bxbEA',\n",
       "  'Club A Steakhouse',\n",
       "  'https://www.yelp.com/biz/club-a-steakhouse-new-york?adjust_creative=iiD4cWOR-Fz3fX4le1knTg&utm_campaign=yelp_api_v3&utm_medium=api_v3_business_search&utm_source=iiD4cWOR-Fz3fX4le1knTg',\n",
       "  2784,\n",
       "  ['steak'],\n",
       "  4.5,\n",
       "  '$$$'],\n",
       " ['ETgJqJHV7BW6pIr9Ox74sA',\n",
       "  'Amélie',\n",
       "  'https://www.yelp.com/biz/am%C3%A9lie-new-york?adjust_creative=iiD4cWOR-Fz3fX4le1knTg&utm_campaign=yelp_api_v3&utm_medium=api_v3_business_search&utm_source=iiD4cWOR-Fz3fX4le1knTg',\n",
       "  2672,\n",
       "  ['french', 'wine_bars'],\n",
       "  4.5,\n",
       "  '$$'],\n",
       " ['IhSVn0TaX8xXb3wcQ-fgcA',\n",
       "  \"Vanessa's Dumpling House\",\n",
       "  'https://www.yelp.com/biz/vanessas-dumpling-house-new-york-2?adjust_creative=iiD4cWOR-Fz3fX4le1knTg&utm_campaign=yelp_api_v3&utm_medium=api_v3_business_search&utm_source=iiD4cWOR-Fz3fX4le1knTg',\n",
       "  2636,\n",
       "  ['chinese'],\n",
       "  4.0,\n",
       "  '$'],\n",
       " ['C-8mGN7lt5rIraO5n-15ug',\n",
       "  'The Smith',\n",
       "  'https://www.yelp.com/biz/the-smith-new-york-2?adjust_creative=iiD4cWOR-Fz3fX4le1knTg&utm_campaign=yelp_api_v3&utm_medium=api_v3_business_search&utm_source=iiD4cWOR-Fz3fX4le1knTg',\n",
       "  2630,\n",
       "  ['newamerican', 'breakfast_brunch', 'cocktailbars'],\n",
       "  4.0,\n",
       "  '$$']]"
      ]
     },
     "execution_count": 28,
     "metadata": {},
     "output_type": "execute_result"
    }
   ],
   "source": [
    "parsed_data"
   ]
  },
  {
   "cell_type": "code",
   "execution_count": 1,
   "metadata": {},
   "outputs": [],
   "source": [
    "# Write a function to take your parsed data and insert it into CSV"
   ]
  },
  {
   "cell_type": "code",
   "execution_count": 29,
   "metadata": {},
   "outputs": [],
   "source": [
    "def data_save(parsed_results, csv_filename):\n",
    "    # your code to save the current results with all of the other results. \n",
    "    # I would save the data every time you pull 50 results\n",
    "    # in case something breaks in the process.\n",
    "    cols=['ID','Name','url','Reviews','categories','Rating','Price']\n",
    "    df=pd.DataFrame(parsed_results,columns=cols)\n",
    "    df.to_csv(csv_filename)"
   ]
  },
  {
   "cell_type": "code",
   "execution_count": 38,
   "metadata": {},
   "outputs": [],
   "source": [
    "# Write a script that combines the three functions above into a single process.\n",
    "\n",
    "# Keep all results in a list to be made into a df later\n",
    "ready_data=[]\n",
    "# List of locations to search in\n",
    "boroughs=['Queens','Brooklyn','Bronx','Manhattan','Staten+Island']\n",
    "\n",
    "for borough in boroughs:\n",
    "    url_params['location'] = borough\n",
    "# create a variable  to keep track of which result you are in. \n",
    "    cur = 0\n",
    "\n",
    "    #set up a while loop to go through and grab the result \n",
    "    while  cur < 1000:\n",
    "        #set the offset parameter to be where you currently are in the results \n",
    "        url_params['offset'] = cur\n",
    "        #make your API call with the new offset number\n",
    "        results = yelp_call(url_params, api_key)\n",
    "\n",
    "        #after you get your results you can now use your function to parse those results\n",
    "        parsed_results = parse_results(results)\n",
    "\n",
    "        # add to list of results\n",
    "        ready_data.extend(parsed_results)\n",
    "        #increment the counter by 50 to move on to the next results\n",
    "        cur += 50"
   ]
  },
  {
   "cell_type": "code",
   "execution_count": 39,
   "metadata": {},
   "outputs": [
    {
     "data": {
      "text/plain": [
       "5000"
      ]
     },
     "execution_count": 39,
     "metadata": {},
     "output_type": "execute_result"
    }
   ],
   "source": [
    "len(ready_data)"
   ]
  },
  {
   "cell_type": "code",
   "execution_count": 40,
   "metadata": {},
   "outputs": [],
   "source": [
    "data_save(ready_data, 'yelp_data_restaurant.csv')"
   ]
  },
  {
   "cell_type": "code",
   "execution_count": 121,
   "metadata": {},
   "outputs": [
    {
     "data": {
      "text/html": [
       "<div>\n",
       "<style scoped>\n",
       "    .dataframe tbody tr th:only-of-type {\n",
       "        vertical-align: middle;\n",
       "    }\n",
       "\n",
       "    .dataframe tbody tr th {\n",
       "        vertical-align: top;\n",
       "    }\n",
       "\n",
       "    .dataframe thead th {\n",
       "        text-align: right;\n",
       "    }\n",
       "</style>\n",
       "<table border=\"1\" class=\"dataframe\">\n",
       "  <thead>\n",
       "    <tr style=\"text-align: right;\">\n",
       "      <th></th>\n",
       "      <th>ID</th>\n",
       "      <th>Name</th>\n",
       "      <th>url</th>\n",
       "      <th>Reviews</th>\n",
       "      <th>categories</th>\n",
       "      <th>Rating</th>\n",
       "      <th>Price</th>\n",
       "    </tr>\n",
       "  </thead>\n",
       "  <tbody>\n",
       "    <tr>\n",
       "      <th>0</th>\n",
       "      <td>hWmzrNyhPO3phBstCynSvw</td>\n",
       "      <td>Rainhas Churrascaria</td>\n",
       "      <td>https://www.yelp.com/biz/rainhas-churrascaria-...</td>\n",
       "      <td>734</td>\n",
       "      <td>['brazilian', 'steak']</td>\n",
       "      <td>4.0</td>\n",
       "      <td>$$$</td>\n",
       "    </tr>\n",
       "    <tr>\n",
       "      <th>1</th>\n",
       "      <td>HiTAdo-v0S1nSfkXfynnHg</td>\n",
       "      <td>Lim's kitchen</td>\n",
       "      <td>https://www.yelp.com/biz/lims-kitchen-long-isl...</td>\n",
       "      <td>91</td>\n",
       "      <td>['chicken_wings', 'korean']</td>\n",
       "      <td>5.0</td>\n",
       "      <td>NaN</td>\n",
       "    </tr>\n",
       "    <tr>\n",
       "      <th>2</th>\n",
       "      <td>o_r0-1tGDoP_HyEONWKqCw</td>\n",
       "      <td>Mojo Restaurant</td>\n",
       "      <td>https://www.yelp.com/biz/mojo-restaurant-fores...</td>\n",
       "      <td>236</td>\n",
       "      <td>['latin']</td>\n",
       "      <td>4.0</td>\n",
       "      <td>$$</td>\n",
       "    </tr>\n",
       "    <tr>\n",
       "      <th>3</th>\n",
       "      <td>3GMHPnrkFAcqffw3T7JSdQ</td>\n",
       "      <td>Kitchen 79</td>\n",
       "      <td>https://www.yelp.com/biz/kitchen-79-jackson-he...</td>\n",
       "      <td>615</td>\n",
       "      <td>['thai']</td>\n",
       "      <td>4.5</td>\n",
       "      <td>$$</td>\n",
       "    </tr>\n",
       "    <tr>\n",
       "      <th>4</th>\n",
       "      <td>kBZggrnSP1kcUMnsnfkTaQ</td>\n",
       "      <td>Nan Xiang Xiao Long Bao</td>\n",
       "      <td>https://www.yelp.com/biz/nan-xiang-xiao-long-b...</td>\n",
       "      <td>3555</td>\n",
       "      <td>['shanghainese', 'gourmet', 'noodles']</td>\n",
       "      <td>4.0</td>\n",
       "      <td>$</td>\n",
       "    </tr>\n",
       "    <tr>\n",
       "      <th>5</th>\n",
       "      <td>0L03onqNwxWLrbb_FCK79A</td>\n",
       "      <td>SriPraPhai Thai Restaurant</td>\n",
       "      <td>https://www.yelp.com/biz/sripraphai-thai-resta...</td>\n",
       "      <td>2330</td>\n",
       "      <td>['thai']</td>\n",
       "      <td>4.0</td>\n",
       "      <td>$$</td>\n",
       "    </tr>\n",
       "    <tr>\n",
       "      <th>6</th>\n",
       "      <td>zekbMn7KWtzxTFLtfEqb1w</td>\n",
       "      <td>Rincon Criollo</td>\n",
       "      <td>https://www.yelp.com/biz/rincon-criollo-corona...</td>\n",
       "      <td>799</td>\n",
       "      <td>['cuban']</td>\n",
       "      <td>4.5</td>\n",
       "      <td>$$</td>\n",
       "    </tr>\n",
       "    <tr>\n",
       "      <th>7</th>\n",
       "      <td>19o6iblcJvz2hdPouYhXgg</td>\n",
       "      <td>Zum Stammtisch</td>\n",
       "      <td>https://www.yelp.com/biz/zum-stammtisch-glenda...</td>\n",
       "      <td>462</td>\n",
       "      <td>['german']</td>\n",
       "      <td>4.0</td>\n",
       "      <td>$$</td>\n",
       "    </tr>\n",
       "    <tr>\n",
       "      <th>8</th>\n",
       "      <td>hKtSEqh8fLgLneDdZZwF8w</td>\n",
       "      <td>Kusina Pinoy Bistro</td>\n",
       "      <td>https://www.yelp.com/biz/kusina-pinoy-bistro-w...</td>\n",
       "      <td>94</td>\n",
       "      <td>['filipino']</td>\n",
       "      <td>4.5</td>\n",
       "      <td>$$</td>\n",
       "    </tr>\n",
       "    <tr>\n",
       "      <th>9</th>\n",
       "      <td>nkfUKb7oWQt54Uz9VQLhUg</td>\n",
       "      <td>Butcher Bar</td>\n",
       "      <td>https://www.yelp.com/biz/butcher-bar-astoria-2...</td>\n",
       "      <td>2008</td>\n",
       "      <td>['bbq', 'burgers']</td>\n",
       "      <td>4.0</td>\n",
       "      <td>$$</td>\n",
       "    </tr>\n",
       "    <tr>\n",
       "      <th>10</th>\n",
       "      <td>1UtavhY5umBJPJkP2jJGMw</td>\n",
       "      <td>Memories of Shanghai</td>\n",
       "      <td>https://www.yelp.com/biz/memories-of-shanghai-...</td>\n",
       "      <td>149</td>\n",
       "      <td>['dimsum', 'shanghainese']</td>\n",
       "      <td>4.0</td>\n",
       "      <td>$$</td>\n",
       "    </tr>\n",
       "    <tr>\n",
       "      <th>11</th>\n",
       "      <td>20LSOx_4K2wghTsUx4gSsg</td>\n",
       "      <td>Oceanic Boil</td>\n",
       "      <td>https://www.yelp.com/biz/oceanic-boil-jackson-...</td>\n",
       "      <td>569</td>\n",
       "      <td>['cajun', 'seafood', 'bars']</td>\n",
       "      <td>4.5</td>\n",
       "      <td>$$</td>\n",
       "    </tr>\n",
       "    <tr>\n",
       "      <th>12</th>\n",
       "      <td>PPQSf_1JWkbjFHi1S0nSNA</td>\n",
       "      <td>Lamoon</td>\n",
       "      <td>https://www.yelp.com/biz/lamoon-elmhurst?adjus...</td>\n",
       "      <td>253</td>\n",
       "      <td>['thai']</td>\n",
       "      <td>4.5</td>\n",
       "      <td>$$</td>\n",
       "    </tr>\n",
       "    <tr>\n",
       "      <th>13</th>\n",
       "      <td>JT-0_-OqmBLYzEvRhU-__w</td>\n",
       "      <td>Nicks Bistro</td>\n",
       "      <td>https://www.yelp.com/biz/nicks-bistro-forest-h...</td>\n",
       "      <td>512</td>\n",
       "      <td>['greek', 'falafel', 'seafood']</td>\n",
       "      <td>4.5</td>\n",
       "      <td>$$</td>\n",
       "    </tr>\n",
       "  </tbody>\n",
       "</table>\n",
       "</div>"
      ],
      "text/plain": [
       "                        ID                        Name  \\\n",
       "0   hWmzrNyhPO3phBstCynSvw        Rainhas Churrascaria   \n",
       "1   HiTAdo-v0S1nSfkXfynnHg               Lim's kitchen   \n",
       "2   o_r0-1tGDoP_HyEONWKqCw             Mojo Restaurant   \n",
       "3   3GMHPnrkFAcqffw3T7JSdQ                  Kitchen 79   \n",
       "4   kBZggrnSP1kcUMnsnfkTaQ     Nan Xiang Xiao Long Bao   \n",
       "5   0L03onqNwxWLrbb_FCK79A  SriPraPhai Thai Restaurant   \n",
       "6   zekbMn7KWtzxTFLtfEqb1w              Rincon Criollo   \n",
       "7   19o6iblcJvz2hdPouYhXgg              Zum Stammtisch   \n",
       "8   hKtSEqh8fLgLneDdZZwF8w         Kusina Pinoy Bistro   \n",
       "9   nkfUKb7oWQt54Uz9VQLhUg                 Butcher Bar   \n",
       "10  1UtavhY5umBJPJkP2jJGMw        Memories of Shanghai   \n",
       "11  20LSOx_4K2wghTsUx4gSsg                Oceanic Boil   \n",
       "12  PPQSf_1JWkbjFHi1S0nSNA                      Lamoon   \n",
       "13  JT-0_-OqmBLYzEvRhU-__w                Nicks Bistro   \n",
       "\n",
       "                                                  url  Reviews  \\\n",
       "0   https://www.yelp.com/biz/rainhas-churrascaria-...      734   \n",
       "1   https://www.yelp.com/biz/lims-kitchen-long-isl...       91   \n",
       "2   https://www.yelp.com/biz/mojo-restaurant-fores...      236   \n",
       "3   https://www.yelp.com/biz/kitchen-79-jackson-he...      615   \n",
       "4   https://www.yelp.com/biz/nan-xiang-xiao-long-b...     3555   \n",
       "5   https://www.yelp.com/biz/sripraphai-thai-resta...     2330   \n",
       "6   https://www.yelp.com/biz/rincon-criollo-corona...      799   \n",
       "7   https://www.yelp.com/biz/zum-stammtisch-glenda...      462   \n",
       "8   https://www.yelp.com/biz/kusina-pinoy-bistro-w...       94   \n",
       "9   https://www.yelp.com/biz/butcher-bar-astoria-2...     2008   \n",
       "10  https://www.yelp.com/biz/memories-of-shanghai-...      149   \n",
       "11  https://www.yelp.com/biz/oceanic-boil-jackson-...      569   \n",
       "12  https://www.yelp.com/biz/lamoon-elmhurst?adjus...      253   \n",
       "13  https://www.yelp.com/biz/nicks-bistro-forest-h...      512   \n",
       "\n",
       "                                categories  Rating Price  \n",
       "0                   ['brazilian', 'steak']     4.0   $$$  \n",
       "1              ['chicken_wings', 'korean']     5.0   NaN  \n",
       "2                                ['latin']     4.0    $$  \n",
       "3                                 ['thai']     4.5    $$  \n",
       "4   ['shanghainese', 'gourmet', 'noodles']     4.0     $  \n",
       "5                                 ['thai']     4.0    $$  \n",
       "6                                ['cuban']     4.5    $$  \n",
       "7                               ['german']     4.0    $$  \n",
       "8                             ['filipino']     4.5    $$  \n",
       "9                       ['bbq', 'burgers']     4.0    $$  \n",
       "10              ['dimsum', 'shanghainese']     4.0    $$  \n",
       "11            ['cajun', 'seafood', 'bars']     4.5    $$  \n",
       "12                                ['thai']     4.5    $$  \n",
       "13         ['greek', 'falafel', 'seafood']     4.5    $$  "
      ]
     },
     "execution_count": 121,
     "metadata": {},
     "output_type": "execute_result"
    }
   ],
   "source": [
    "df=pd.read_csv('yelp_data_restaurant.csv',index_col=0)\n",
    "\n",
    "df.head(14)"
   ]
  },
  {
   "cell_type": "code",
   "execution_count": 46,
   "metadata": {},
   "outputs": [
    {
     "data": {
      "text/plain": [
       "array(['https://www.yelp.com/biz/rainhas-churrascaria-corona?adjust_creative=iiD4cWOR-Fz3fX4le1knTg&utm_campaign=yelp_api_v3&utm_medium=api_v3_business_search&utm_source=iiD4cWOR-Fz3fX4le1knTg',\n",
       "       'https://www.yelp.com/biz/lims-kitchen-long-island-city-2?adjust_creative=iiD4cWOR-Fz3fX4le1knTg&utm_campaign=yelp_api_v3&utm_medium=api_v3_business_search&utm_source=iiD4cWOR-Fz3fX4le1knTg',\n",
       "       'https://www.yelp.com/biz/mojo-restaurant-forest-hills?adjust_creative=iiD4cWOR-Fz3fX4le1knTg&utm_campaign=yelp_api_v3&utm_medium=api_v3_business_search&utm_source=iiD4cWOR-Fz3fX4le1knTg',\n",
       "       ...,\n",
       "       'https://www.yelp.com/biz/thursday-kitchen-new-york?adjust_creative=iiD4cWOR-Fz3fX4le1knTg&utm_campaign=yelp_api_v3&utm_medium=api_v3_business_search&utm_source=iiD4cWOR-Fz3fX4le1knTg',\n",
       "       'https://www.yelp.com/biz/the-old-spot-jersey-city-5?adjust_creative=iiD4cWOR-Fz3fX4le1knTg&utm_campaign=yelp_api_v3&utm_medium=api_v3_business_search&utm_source=iiD4cWOR-Fz3fX4le1knTg',\n",
       "       'https://www.yelp.com/biz/jezif-fried-chicken-and-pizza-carteret?adjust_creative=iiD4cWOR-Fz3fX4le1knTg&utm_campaign=yelp_api_v3&utm_medium=api_v3_business_search&utm_source=iiD4cWOR-Fz3fX4le1knTg'],\n",
       "      dtype=object)"
      ]
     },
     "execution_count": 46,
     "metadata": {},
     "output_type": "execute_result"
    }
   ],
   "source": [
    "df['url'].values"
   ]
  },
  {
   "cell_type": "code",
   "execution_count": 52,
   "metadata": {},
   "outputs": [
    {
     "data": {
      "text/plain": [
       "ID            3300\n",
       "Name          3300\n",
       "url           3300\n",
       "Reviews       3300\n",
       "categories    3300\n",
       "Rating        3300\n",
       "Price         3195\n",
       "dtype: int64"
      ]
     },
     "execution_count": 52,
     "metadata": {},
     "output_type": "execute_result"
    }
   ],
   "source": [
    "df.drop_duplicates(inplace=True)\n",
    "df[df['Reviews']>50].count()"
   ]
  },
  {
   "cell_type": "code",
   "execution_count": null,
   "metadata": {},
   "outputs": [],
   "source": []
  },
  {
   "cell_type": "code",
   "execution_count": 96,
   "metadata": {},
   "outputs": [],
   "source": [
    "url_random = 'https://www.yelp.com/biz/rainhas-churrascaria-corona?adjust_creative=iiD4cWOR-Fz3fX4le1knTg&utm_campaign=yelp_api_v3&utm_medium=api_v3_business_search&utm_source=iiD4cWOR-Fz3fX4le1knTg&start=20'\n",
    "response_soup_random = requests.get(url_random, headers = header)\n",
    "soup_random = BeautifulSoup(response_soup_random.text, 'html.parser')"
   ]
  },
  {
   "cell_type": "code",
   "execution_count": 64,
   "metadata": {},
   "outputs": [
    {
     "data": {
      "text/plain": [
       "'https://www.yelp.com/biz/rainhas-churrascaria-corona?adjust_creative=iiD4cWOR-Fz3fX4le1knTg&utm_campaign=yelp_api_v3&utm_medium=api_v3_business_search&utm_source=iiD4cWOR-Fz3fX4le1knTg'"
      ]
     },
     "execution_count": 64,
     "metadata": {},
     "output_type": "execute_result"
    }
   ],
   "source": [
    "re.sub('&start=.*$','',url_random,flags=re.DOTALL)"
   ]
  },
  {
   "cell_type": "code",
   "execution_count": 97,
   "metadata": {},
   "outputs": [
    {
     "data": {
      "text/plain": [
       "\"Excellent restaurant for meat lovers. We went here on a Saturday night no need for reservation, we were seated immediately. Buffet cost 45 per person and it was worth it. Variety of dishes available including salads, rice. We didn't even have to go back to the Buffet area because different types of meat dishes were being served. The servers go around the table serving the meat dishes. Drinks have separate prices which was not bad. Had a lot of fun! Servers were very friendly and attentive to our needs. Definitely we will come back there.\""
      ]
     },
     "execution_count": 97,
     "metadata": {},
     "output_type": "execute_result"
    }
   ],
   "source": [
    "revs=soup_random.find_all('li', {'class': 'lemon--li__373c0__1r9wz margin-b3__373c0__q1DuY padding-b3__373c0__342DA border--bottom__373c0__3qNtD border-color--default__373c0__3-ifU'})\n",
    "revs[1].find('span', {'class': 'lemon--span__373c0__3997G raw__373c0__3rKqk'}).text"
   ]
  },
  {
   "cell_type": "code",
   "execution_count": 107,
   "metadata": {},
   "outputs": [],
   "source": [
    "# create an empty list of show_reviews\n",
    "restaurant_review_list = []\n",
    "\n",
    "# function to get each review, reviewer and score and save it in a dictionary along with the\n",
    "# title of the game\n",
    "def each_review(url):\n",
    "    \n",
    "    time.sleep(2)\n",
    "    \n",
    "# getting the beautiful soup parser initialized, changes as the url changes which will be \n",
    "# looped in the next block\n",
    "    response_soup = requests.get(url, headers = header)\n",
    "    soup = BeautifulSoup(response_soup.text, 'html.parser')\n",
    "    \n",
    "# try and except for each page to make sure the page exists and it does not go straight to\n",
    "# a 404 error page, if it does then it will skip that page and move onto the next one\n",
    "    try:\n",
    "\n",
    "\n",
    "# this grabs the entire block of reviews on the page, used to loop through to grab individual\n",
    "# reviews and scores\n",
    "        reviews_list = soup.find_all('li', {'class': 'lemon--li__373c0__1r9wz margin-b3__373c0__q1DuY padding-b3__373c0__342DA border--bottom__373c0__3qNtD border-color--default__373c0__3-ifU'})\n",
    "    except AttributeError:\n",
    "            pass\n",
    "    \n",
    "    try:\n",
    "        \n",
    "#looping through the reviews in the block to get the user, review and score\n",
    "        for x in reviews_list:\n",
    "            try:\n",
    "                #user = x.find('div', {'style': 'float: left;'})('a')[1].text\n",
    "                #user_score = int((x.find('div', {'class': 'mb8'})('div')[2].text).split()[-1])\n",
    "                user_review = x.find('span', {'class': 'lemon--span__373c0__3997G raw__373c0__3rKqk'}).text\n",
    "\n",
    "# Storing the title, user, user score and review in each iteration in a dictionary that is \n",
    "# overwritten at every new iteration\n",
    "                restaurant_review_dict = {\n",
    "                    'url': re.sub('&start=.*$','',url,flags=re.DOTALL),\n",
    "                    'user_review' : user_review\n",
    "                }\n",
    "\n",
    "# stores the dictionary in a list each iteration                \n",
    "                restaurant_review_list.append(restaurant_review_dict)\n",
    "            except AttributeError:\n",
    "                pass\n",
    "            \n",
    "    except UnboundLocalError:\n",
    "        pass\n",
    "    \n",
    "    \n",
    "    return restaurant_review_list"
   ]
  },
  {
   "cell_type": "code",
   "execution_count": 66,
   "metadata": {},
   "outputs": [
    {
     "data": {
      "text/plain": [
       "'https://www.yelp.com/biz/rainhas-churrascaria-corona?adjust_creative=iiD4cWOR-Fz3fX4le1knTg&utm_campaign=yelp_api_v3&utm_medium=api_v3_business_search&utm_source=iiD4cWOR-Fz3fX4le1knTg'"
      ]
     },
     "execution_count": 66,
     "metadata": {},
     "output_type": "execute_result"
    }
   ],
   "source": [
    "df.url.values[0]"
   ]
  },
  {
   "cell_type": "code",
   "execution_count": 118,
   "metadata": {},
   "outputs": [
    {
     "data": {
      "text/html": [
       "<div>\n",
       "<style scoped>\n",
       "    .dataframe tbody tr th:only-of-type {\n",
       "        vertical-align: middle;\n",
       "    }\n",
       "\n",
       "    .dataframe tbody tr th {\n",
       "        vertical-align: top;\n",
       "    }\n",
       "\n",
       "    .dataframe thead th {\n",
       "        text-align: right;\n",
       "    }\n",
       "</style>\n",
       "<table border=\"1\" class=\"dataframe\">\n",
       "  <thead>\n",
       "    <tr style=\"text-align: right;\">\n",
       "      <th></th>\n",
       "      <th>ID</th>\n",
       "      <th>Name</th>\n",
       "      <th>url</th>\n",
       "      <th>Reviews</th>\n",
       "      <th>categories</th>\n",
       "      <th>Rating</th>\n",
       "      <th>Price</th>\n",
       "    </tr>\n",
       "  </thead>\n",
       "  <tbody>\n",
       "    <tr>\n",
       "      <th>13</th>\n",
       "      <td>JT-0_-OqmBLYzEvRhU-__w</td>\n",
       "      <td>Nicks Bistro</td>\n",
       "      <td>https://www.yelp.com/biz/nicks-bistro-forest-h...</td>\n",
       "      <td>512</td>\n",
       "      <td>['greek', 'falafel', 'seafood']</td>\n",
       "      <td>4.5</td>\n",
       "      <td>$$</td>\n",
       "    </tr>\n",
       "  </tbody>\n",
       "</table>\n",
       "</div>"
      ],
      "text/plain": [
       "                        ID          Name  \\\n",
       "13  JT-0_-OqmBLYzEvRhU-__w  Nicks Bistro   \n",
       "\n",
       "                                                  url  Reviews  \\\n",
       "13  https://www.yelp.com/biz/nicks-bistro-forest-h...      512   \n",
       "\n",
       "                         categories  Rating Price  \n",
       "13  ['greek', 'falafel', 'seafood']     4.5    $$  "
      ]
     },
     "execution_count": 118,
     "metadata": {},
     "output_type": "execute_result"
    }
   ],
   "source": [
    "df[df['url']=='https://www.yelp.com/biz/nicks-bistro-forest-hills?adjust_creative=iiD4cWOR-Fz3fX4le1knTg&utm_campaign=yelp_api_v3&utm_medium=api_v3_business_search&utm_source=iiD4cWOR-Fz3fX4le1knTg']#['Reviews'].values[0]"
   ]
  },
  {
   "cell_type": "code",
   "execution_count": 110,
   "metadata": {},
   "outputs": [
    {
     "data": {
      "text/html": [
       "<div>\n",
       "<style scoped>\n",
       "    .dataframe tbody tr th:only-of-type {\n",
       "        vertical-align: middle;\n",
       "    }\n",
       "\n",
       "    .dataframe tbody tr th {\n",
       "        vertical-align: top;\n",
       "    }\n",
       "\n",
       "    .dataframe thead th {\n",
       "        text-align: right;\n",
       "    }\n",
       "</style>\n",
       "<table border=\"1\" class=\"dataframe\">\n",
       "  <thead>\n",
       "    <tr style=\"text-align: right;\">\n",
       "      <th></th>\n",
       "      <th>ID</th>\n",
       "      <th>Name</th>\n",
       "      <th>url</th>\n",
       "      <th>Reviews</th>\n",
       "      <th>categories</th>\n",
       "      <th>Rating</th>\n",
       "      <th>Price</th>\n",
       "    </tr>\n",
       "  </thead>\n",
       "  <tbody>\n",
       "    <tr>\n",
       "      <th>1619</th>\n",
       "      <td>TOaQzGPAIQWQUIXi4CPnbA</td>\n",
       "      <td>Radegast Hall and Biergarten</td>\n",
       "      <td>https://www.yelp.com/biz/radegast-hall-and-bie...</td>\n",
       "      <td>1324</td>\n",
       "      <td>['pubs', 'german', 'venues']</td>\n",
       "      <td>4.0</td>\n",
       "      <td>$$</td>\n",
       "    </tr>\n",
       "  </tbody>\n",
       "</table>\n",
       "</div>"
      ],
      "text/plain": [
       "                          ID                          Name  \\\n",
       "1619  TOaQzGPAIQWQUIXi4CPnbA  Radegast Hall and Biergarten   \n",
       "\n",
       "                                                    url  Reviews  \\\n",
       "1619  https://www.yelp.com/biz/radegast-hall-and-bie...     1324   \n",
       "\n",
       "                        categories  Rating Price  \n",
       "1619  ['pubs', 'german', 'venues']     4.0    $$  "
      ]
     },
     "execution_count": 110,
     "metadata": {},
     "output_type": "execute_result"
    }
   ],
   "source": [
    "df[df['url']=='https://www.yelp.com/biz/radegast-hall-and-biergarten-brooklyn?adjust_creative=iiD4cWOR-Fz3fX4le1knTg&utm_campaign=yelp_api_v3&utm_medium=api_v3_business_search&utm_source=iiD4cWOR-Fz3fX4le1knTg']#['Reviews'].values[0]"
   ]
  },
  {
   "cell_type": "code",
   "execution_count": 104,
   "metadata": {},
   "outputs": [],
   "source": [
    "c=0\n",
    "while c < (df[df['url']==df.url.values[0]]['Reviews'].values[0]) and c<300:\n",
    "    url = df.url.values[0] + '&start={}'.format(c)\n",
    "    each_review(url)\n",
    "    c+=20"
   ]
  },
  {
   "cell_type": "code",
   "execution_count": 109,
   "metadata": {},
   "outputs": [
    {
     "ename": "ConnectionError",
     "evalue": "HTTPSConnectionPool(host='www.yelp.com', port=443): Max retries exceeded with url: /biz/radegast-hall-and-biergarten-brooklyn?adjust_creative=iiD4cWOR-Fz3fX4le1knTg&utm_campaign=yelp_api_v3&utm_medium=api_v3_business_search&utm_source=iiD4cWOR-Fz3fX4le1knTg&start=280 (Caused by NewConnectionError('<urllib3.connection.VerifiedHTTPSConnection object at 0x0000022F5E11CA48>: Failed to establish a new connection: [Errno 11001] getaddrinfo failed'))",
     "output_type": "error",
     "traceback": [
      "\u001b[1;31m---------------------------------------------------------------------------\u001b[0m",
      "\u001b[1;31mgaierror\u001b[0m                                  Traceback (most recent call last)",
      "\u001b[1;32m~\\anaconda3\\lib\\site-packages\\urllib3\\connection.py\u001b[0m in \u001b[0;36m_new_conn\u001b[1;34m(self)\u001b[0m\n\u001b[0;32m    156\u001b[0m             conn = connection.create_connection(\n\u001b[1;32m--> 157\u001b[1;33m                 \u001b[1;33m(\u001b[0m\u001b[0mself\u001b[0m\u001b[1;33m.\u001b[0m\u001b[0m_dns_host\u001b[0m\u001b[1;33m,\u001b[0m \u001b[0mself\u001b[0m\u001b[1;33m.\u001b[0m\u001b[0mport\u001b[0m\u001b[1;33m)\u001b[0m\u001b[1;33m,\u001b[0m \u001b[0mself\u001b[0m\u001b[1;33m.\u001b[0m\u001b[0mtimeout\u001b[0m\u001b[1;33m,\u001b[0m \u001b[1;33m**\u001b[0m\u001b[0mextra_kw\u001b[0m\u001b[1;33m\u001b[0m\u001b[1;33m\u001b[0m\u001b[0m\n\u001b[0m\u001b[0;32m    158\u001b[0m             )\n",
      "\u001b[1;32m~\\anaconda3\\lib\\site-packages\\urllib3\\util\\connection.py\u001b[0m in \u001b[0;36mcreate_connection\u001b[1;34m(address, timeout, source_address, socket_options)\u001b[0m\n\u001b[0;32m     60\u001b[0m \u001b[1;33m\u001b[0m\u001b[0m\n\u001b[1;32m---> 61\u001b[1;33m     \u001b[1;32mfor\u001b[0m \u001b[0mres\u001b[0m \u001b[1;32min\u001b[0m \u001b[0msocket\u001b[0m\u001b[1;33m.\u001b[0m\u001b[0mgetaddrinfo\u001b[0m\u001b[1;33m(\u001b[0m\u001b[0mhost\u001b[0m\u001b[1;33m,\u001b[0m \u001b[0mport\u001b[0m\u001b[1;33m,\u001b[0m \u001b[0mfamily\u001b[0m\u001b[1;33m,\u001b[0m \u001b[0msocket\u001b[0m\u001b[1;33m.\u001b[0m\u001b[0mSOCK_STREAM\u001b[0m\u001b[1;33m)\u001b[0m\u001b[1;33m:\u001b[0m\u001b[1;33m\u001b[0m\u001b[1;33m\u001b[0m\u001b[0m\n\u001b[0m\u001b[0;32m     62\u001b[0m         \u001b[0maf\u001b[0m\u001b[1;33m,\u001b[0m \u001b[0msocktype\u001b[0m\u001b[1;33m,\u001b[0m \u001b[0mproto\u001b[0m\u001b[1;33m,\u001b[0m \u001b[0mcanonname\u001b[0m\u001b[1;33m,\u001b[0m \u001b[0msa\u001b[0m \u001b[1;33m=\u001b[0m \u001b[0mres\u001b[0m\u001b[1;33m\u001b[0m\u001b[1;33m\u001b[0m\u001b[0m\n",
      "\u001b[1;32m~\\anaconda3\\lib\\socket.py\u001b[0m in \u001b[0;36mgetaddrinfo\u001b[1;34m(host, port, family, type, proto, flags)\u001b[0m\n\u001b[0;32m    751\u001b[0m     \u001b[0maddrlist\u001b[0m \u001b[1;33m=\u001b[0m \u001b[1;33m[\u001b[0m\u001b[1;33m]\u001b[0m\u001b[1;33m\u001b[0m\u001b[1;33m\u001b[0m\u001b[0m\n\u001b[1;32m--> 752\u001b[1;33m     \u001b[1;32mfor\u001b[0m \u001b[0mres\u001b[0m \u001b[1;32min\u001b[0m \u001b[0m_socket\u001b[0m\u001b[1;33m.\u001b[0m\u001b[0mgetaddrinfo\u001b[0m\u001b[1;33m(\u001b[0m\u001b[0mhost\u001b[0m\u001b[1;33m,\u001b[0m \u001b[0mport\u001b[0m\u001b[1;33m,\u001b[0m \u001b[0mfamily\u001b[0m\u001b[1;33m,\u001b[0m \u001b[0mtype\u001b[0m\u001b[1;33m,\u001b[0m \u001b[0mproto\u001b[0m\u001b[1;33m,\u001b[0m \u001b[0mflags\u001b[0m\u001b[1;33m)\u001b[0m\u001b[1;33m:\u001b[0m\u001b[1;33m\u001b[0m\u001b[1;33m\u001b[0m\u001b[0m\n\u001b[0m\u001b[0;32m    753\u001b[0m         \u001b[0maf\u001b[0m\u001b[1;33m,\u001b[0m \u001b[0msocktype\u001b[0m\u001b[1;33m,\u001b[0m \u001b[0mproto\u001b[0m\u001b[1;33m,\u001b[0m \u001b[0mcanonname\u001b[0m\u001b[1;33m,\u001b[0m \u001b[0msa\u001b[0m \u001b[1;33m=\u001b[0m \u001b[0mres\u001b[0m\u001b[1;33m\u001b[0m\u001b[1;33m\u001b[0m\u001b[0m\n",
      "\u001b[1;31mgaierror\u001b[0m: [Errno 11001] getaddrinfo failed",
      "\nDuring handling of the above exception, another exception occurred:\n",
      "\u001b[1;31mNewConnectionError\u001b[0m                        Traceback (most recent call last)",
      "\u001b[1;32m~\\anaconda3\\lib\\site-packages\\urllib3\\connectionpool.py\u001b[0m in \u001b[0;36murlopen\u001b[1;34m(self, method, url, body, headers, retries, redirect, assert_same_host, timeout, pool_timeout, release_conn, chunked, body_pos, **response_kw)\u001b[0m\n\u001b[0;32m    671\u001b[0m                 \u001b[0mheaders\u001b[0m\u001b[1;33m=\u001b[0m\u001b[0mheaders\u001b[0m\u001b[1;33m,\u001b[0m\u001b[1;33m\u001b[0m\u001b[1;33m\u001b[0m\u001b[0m\n\u001b[1;32m--> 672\u001b[1;33m                 \u001b[0mchunked\u001b[0m\u001b[1;33m=\u001b[0m\u001b[0mchunked\u001b[0m\u001b[1;33m,\u001b[0m\u001b[1;33m\u001b[0m\u001b[1;33m\u001b[0m\u001b[0m\n\u001b[0m\u001b[0;32m    673\u001b[0m             )\n",
      "\u001b[1;32m~\\anaconda3\\lib\\site-packages\\urllib3\\connectionpool.py\u001b[0m in \u001b[0;36m_make_request\u001b[1;34m(self, conn, method, url, timeout, chunked, **httplib_request_kw)\u001b[0m\n\u001b[0;32m    375\u001b[0m         \u001b[1;32mtry\u001b[0m\u001b[1;33m:\u001b[0m\u001b[1;33m\u001b[0m\u001b[1;33m\u001b[0m\u001b[0m\n\u001b[1;32m--> 376\u001b[1;33m             \u001b[0mself\u001b[0m\u001b[1;33m.\u001b[0m\u001b[0m_validate_conn\u001b[0m\u001b[1;33m(\u001b[0m\u001b[0mconn\u001b[0m\u001b[1;33m)\u001b[0m\u001b[1;33m\u001b[0m\u001b[1;33m\u001b[0m\u001b[0m\n\u001b[0m\u001b[0;32m    377\u001b[0m         \u001b[1;32mexcept\u001b[0m \u001b[1;33m(\u001b[0m\u001b[0mSocketTimeout\u001b[0m\u001b[1;33m,\u001b[0m \u001b[0mBaseSSLError\u001b[0m\u001b[1;33m)\u001b[0m \u001b[1;32mas\u001b[0m \u001b[0me\u001b[0m\u001b[1;33m:\u001b[0m\u001b[1;33m\u001b[0m\u001b[1;33m\u001b[0m\u001b[0m\n",
      "\u001b[1;32m~\\anaconda3\\lib\\site-packages\\urllib3\\connectionpool.py\u001b[0m in \u001b[0;36m_validate_conn\u001b[1;34m(self, conn)\u001b[0m\n\u001b[0;32m    993\u001b[0m         \u001b[1;32mif\u001b[0m \u001b[1;32mnot\u001b[0m \u001b[0mgetattr\u001b[0m\u001b[1;33m(\u001b[0m\u001b[0mconn\u001b[0m\u001b[1;33m,\u001b[0m \u001b[1;34m\"sock\"\u001b[0m\u001b[1;33m,\u001b[0m \u001b[1;32mNone\u001b[0m\u001b[1;33m)\u001b[0m\u001b[1;33m:\u001b[0m  \u001b[1;31m# AppEngine might not have  `.sock`\u001b[0m\u001b[1;33m\u001b[0m\u001b[1;33m\u001b[0m\u001b[0m\n\u001b[1;32m--> 994\u001b[1;33m             \u001b[0mconn\u001b[0m\u001b[1;33m.\u001b[0m\u001b[0mconnect\u001b[0m\u001b[1;33m(\u001b[0m\u001b[1;33m)\u001b[0m\u001b[1;33m\u001b[0m\u001b[1;33m\u001b[0m\u001b[0m\n\u001b[0m\u001b[0;32m    995\u001b[0m \u001b[1;33m\u001b[0m\u001b[0m\n",
      "\u001b[1;32m~\\anaconda3\\lib\\site-packages\\urllib3\\connection.py\u001b[0m in \u001b[0;36mconnect\u001b[1;34m(self)\u001b[0m\n\u001b[0;32m    299\u001b[0m         \u001b[1;31m# Add certificate verification\u001b[0m\u001b[1;33m\u001b[0m\u001b[1;33m\u001b[0m\u001b[1;33m\u001b[0m\u001b[0m\n\u001b[1;32m--> 300\u001b[1;33m         \u001b[0mconn\u001b[0m \u001b[1;33m=\u001b[0m \u001b[0mself\u001b[0m\u001b[1;33m.\u001b[0m\u001b[0m_new_conn\u001b[0m\u001b[1;33m(\u001b[0m\u001b[1;33m)\u001b[0m\u001b[1;33m\u001b[0m\u001b[1;33m\u001b[0m\u001b[0m\n\u001b[0m\u001b[0;32m    301\u001b[0m         \u001b[0mhostname\u001b[0m \u001b[1;33m=\u001b[0m \u001b[0mself\u001b[0m\u001b[1;33m.\u001b[0m\u001b[0mhost\u001b[0m\u001b[1;33m\u001b[0m\u001b[1;33m\u001b[0m\u001b[0m\n",
      "\u001b[1;32m~\\anaconda3\\lib\\site-packages\\urllib3\\connection.py\u001b[0m in \u001b[0;36m_new_conn\u001b[1;34m(self)\u001b[0m\n\u001b[0;32m    168\u001b[0m             raise NewConnectionError(\n\u001b[1;32m--> 169\u001b[1;33m                 \u001b[0mself\u001b[0m\u001b[1;33m,\u001b[0m \u001b[1;34m\"Failed to establish a new connection: %s\"\u001b[0m \u001b[1;33m%\u001b[0m \u001b[0me\u001b[0m\u001b[1;33m\u001b[0m\u001b[1;33m\u001b[0m\u001b[0m\n\u001b[0m\u001b[0;32m    170\u001b[0m             )\n",
      "\u001b[1;31mNewConnectionError\u001b[0m: <urllib3.connection.VerifiedHTTPSConnection object at 0x0000022F5E11CA48>: Failed to establish a new connection: [Errno 11001] getaddrinfo failed",
      "\nDuring handling of the above exception, another exception occurred:\n",
      "\u001b[1;31mMaxRetryError\u001b[0m                             Traceback (most recent call last)",
      "\u001b[1;32m~\\anaconda3\\lib\\site-packages\\requests\\adapters.py\u001b[0m in \u001b[0;36msend\u001b[1;34m(self, request, stream, timeout, verify, cert, proxies)\u001b[0m\n\u001b[0;32m    448\u001b[0m                     \u001b[0mretries\u001b[0m\u001b[1;33m=\u001b[0m\u001b[0mself\u001b[0m\u001b[1;33m.\u001b[0m\u001b[0mmax_retries\u001b[0m\u001b[1;33m,\u001b[0m\u001b[1;33m\u001b[0m\u001b[1;33m\u001b[0m\u001b[0m\n\u001b[1;32m--> 449\u001b[1;33m                     \u001b[0mtimeout\u001b[0m\u001b[1;33m=\u001b[0m\u001b[0mtimeout\u001b[0m\u001b[1;33m\u001b[0m\u001b[1;33m\u001b[0m\u001b[0m\n\u001b[0m\u001b[0;32m    450\u001b[0m                 )\n",
      "\u001b[1;32m~\\anaconda3\\lib\\site-packages\\urllib3\\connectionpool.py\u001b[0m in \u001b[0;36murlopen\u001b[1;34m(self, method, url, body, headers, retries, redirect, assert_same_host, timeout, pool_timeout, release_conn, chunked, body_pos, **response_kw)\u001b[0m\n\u001b[0;32m    719\u001b[0m             retries = retries.increment(\n\u001b[1;32m--> 720\u001b[1;33m                 \u001b[0mmethod\u001b[0m\u001b[1;33m,\u001b[0m \u001b[0murl\u001b[0m\u001b[1;33m,\u001b[0m \u001b[0merror\u001b[0m\u001b[1;33m=\u001b[0m\u001b[0me\u001b[0m\u001b[1;33m,\u001b[0m \u001b[0m_pool\u001b[0m\u001b[1;33m=\u001b[0m\u001b[0mself\u001b[0m\u001b[1;33m,\u001b[0m \u001b[0m_stacktrace\u001b[0m\u001b[1;33m=\u001b[0m\u001b[0msys\u001b[0m\u001b[1;33m.\u001b[0m\u001b[0mexc_info\u001b[0m\u001b[1;33m(\u001b[0m\u001b[1;33m)\u001b[0m\u001b[1;33m[\u001b[0m\u001b[1;36m2\u001b[0m\u001b[1;33m]\u001b[0m\u001b[1;33m\u001b[0m\u001b[1;33m\u001b[0m\u001b[0m\n\u001b[0m\u001b[0;32m    721\u001b[0m             )\n",
      "\u001b[1;32m~\\anaconda3\\lib\\site-packages\\urllib3\\util\\retry.py\u001b[0m in \u001b[0;36mincrement\u001b[1;34m(self, method, url, response, error, _pool, _stacktrace)\u001b[0m\n\u001b[0;32m    435\u001b[0m         \u001b[1;32mif\u001b[0m \u001b[0mnew_retry\u001b[0m\u001b[1;33m.\u001b[0m\u001b[0mis_exhausted\u001b[0m\u001b[1;33m(\u001b[0m\u001b[1;33m)\u001b[0m\u001b[1;33m:\u001b[0m\u001b[1;33m\u001b[0m\u001b[1;33m\u001b[0m\u001b[0m\n\u001b[1;32m--> 436\u001b[1;33m             \u001b[1;32mraise\u001b[0m \u001b[0mMaxRetryError\u001b[0m\u001b[1;33m(\u001b[0m\u001b[0m_pool\u001b[0m\u001b[1;33m,\u001b[0m \u001b[0murl\u001b[0m\u001b[1;33m,\u001b[0m \u001b[0merror\u001b[0m \u001b[1;32mor\u001b[0m \u001b[0mResponseError\u001b[0m\u001b[1;33m(\u001b[0m\u001b[0mcause\u001b[0m\u001b[1;33m)\u001b[0m\u001b[1;33m)\u001b[0m\u001b[1;33m\u001b[0m\u001b[1;33m\u001b[0m\u001b[0m\n\u001b[0m\u001b[0;32m    437\u001b[0m \u001b[1;33m\u001b[0m\u001b[0m\n",
      "\u001b[1;31mMaxRetryError\u001b[0m: HTTPSConnectionPool(host='www.yelp.com', port=443): Max retries exceeded with url: /biz/radegast-hall-and-biergarten-brooklyn?adjust_creative=iiD4cWOR-Fz3fX4le1knTg&utm_campaign=yelp_api_v3&utm_medium=api_v3_business_search&utm_source=iiD4cWOR-Fz3fX4le1knTg&start=280 (Caused by NewConnectionError('<urllib3.connection.VerifiedHTTPSConnection object at 0x0000022F5E11CA48>: Failed to establish a new connection: [Errno 11001] getaddrinfo failed'))",
      "\nDuring handling of the above exception, another exception occurred:\n",
      "\u001b[1;31mConnectionError\u001b[0m                           Traceback (most recent call last)",
      "\u001b[1;32m<ipython-input-109-10ddc308fe0f>\u001b[0m in \u001b[0;36m<module>\u001b[1;34m\u001b[0m\n\u001b[0;32m      6\u001b[0m     \u001b[1;32mwhile\u001b[0m \u001b[0mc\u001b[0m \u001b[1;33m<\u001b[0m \u001b[1;33m(\u001b[0m\u001b[0mdf\u001b[0m\u001b[1;33m[\u001b[0m\u001b[0mdf\u001b[0m\u001b[1;33m[\u001b[0m\u001b[1;34m'url'\u001b[0m\u001b[1;33m]\u001b[0m\u001b[1;33m==\u001b[0m\u001b[0mlink\u001b[0m\u001b[1;33m]\u001b[0m\u001b[1;33m[\u001b[0m\u001b[1;34m'Reviews'\u001b[0m\u001b[1;33m]\u001b[0m\u001b[1;33m.\u001b[0m\u001b[0mvalues\u001b[0m\u001b[1;33m[\u001b[0m\u001b[1;36m0\u001b[0m\u001b[1;33m]\u001b[0m\u001b[1;33m)\u001b[0m \u001b[1;32mand\u001b[0m \u001b[0mc\u001b[0m\u001b[1;33m<\u001b[0m\u001b[1;36m300\u001b[0m\u001b[1;33m:\u001b[0m\u001b[1;33m\u001b[0m\u001b[1;33m\u001b[0m\u001b[0m\n\u001b[0;32m      7\u001b[0m         \u001b[0murl\u001b[0m \u001b[1;33m=\u001b[0m \u001b[0mlink\u001b[0m \u001b[1;33m+\u001b[0m \u001b[1;34m'&start={}'\u001b[0m\u001b[1;33m.\u001b[0m\u001b[0mformat\u001b[0m\u001b[1;33m(\u001b[0m\u001b[0mc\u001b[0m\u001b[1;33m)\u001b[0m\u001b[1;33m\u001b[0m\u001b[1;33m\u001b[0m\u001b[0m\n\u001b[1;32m----> 8\u001b[1;33m         \u001b[0meach_review\u001b[0m\u001b[1;33m(\u001b[0m\u001b[0murl\u001b[0m\u001b[1;33m)\u001b[0m\u001b[1;33m\u001b[0m\u001b[1;33m\u001b[0m\u001b[0m\n\u001b[0m\u001b[0;32m      9\u001b[0m         \u001b[0mc\u001b[0m\u001b[1;33m+=\u001b[0m\u001b[1;36m20\u001b[0m\u001b[1;33m\u001b[0m\u001b[1;33m\u001b[0m\u001b[0m\n",
      "\u001b[1;32m<ipython-input-107-257fff11ddd3>\u001b[0m in \u001b[0;36meach_review\u001b[1;34m(url)\u001b[0m\n\u001b[0;32m     10\u001b[0m \u001b[1;31m# getting the beautiful soup parser initialized, changes as the url changes which will be\u001b[0m\u001b[1;33m\u001b[0m\u001b[1;33m\u001b[0m\u001b[1;33m\u001b[0m\u001b[0m\n\u001b[0;32m     11\u001b[0m \u001b[1;31m# looped in the next block\u001b[0m\u001b[1;33m\u001b[0m\u001b[1;33m\u001b[0m\u001b[1;33m\u001b[0m\u001b[0m\n\u001b[1;32m---> 12\u001b[1;33m     \u001b[0mresponse_soup\u001b[0m \u001b[1;33m=\u001b[0m \u001b[0mrequests\u001b[0m\u001b[1;33m.\u001b[0m\u001b[0mget\u001b[0m\u001b[1;33m(\u001b[0m\u001b[0murl\u001b[0m\u001b[1;33m,\u001b[0m \u001b[0mheaders\u001b[0m \u001b[1;33m=\u001b[0m \u001b[0mheader\u001b[0m\u001b[1;33m)\u001b[0m\u001b[1;33m\u001b[0m\u001b[1;33m\u001b[0m\u001b[0m\n\u001b[0m\u001b[0;32m     13\u001b[0m     \u001b[0msoup\u001b[0m \u001b[1;33m=\u001b[0m \u001b[0mBeautifulSoup\u001b[0m\u001b[1;33m(\u001b[0m\u001b[0mresponse_soup\u001b[0m\u001b[1;33m.\u001b[0m\u001b[0mtext\u001b[0m\u001b[1;33m,\u001b[0m \u001b[1;34m'html.parser'\u001b[0m\u001b[1;33m)\u001b[0m\u001b[1;33m\u001b[0m\u001b[1;33m\u001b[0m\u001b[0m\n\u001b[0;32m     14\u001b[0m \u001b[1;33m\u001b[0m\u001b[0m\n",
      "\u001b[1;32m~\\anaconda3\\lib\\site-packages\\requests\\api.py\u001b[0m in \u001b[0;36mget\u001b[1;34m(url, params, **kwargs)\u001b[0m\n\u001b[0;32m     74\u001b[0m \u001b[1;33m\u001b[0m\u001b[0m\n\u001b[0;32m     75\u001b[0m     \u001b[0mkwargs\u001b[0m\u001b[1;33m.\u001b[0m\u001b[0msetdefault\u001b[0m\u001b[1;33m(\u001b[0m\u001b[1;34m'allow_redirects'\u001b[0m\u001b[1;33m,\u001b[0m \u001b[1;32mTrue\u001b[0m\u001b[1;33m)\u001b[0m\u001b[1;33m\u001b[0m\u001b[1;33m\u001b[0m\u001b[0m\n\u001b[1;32m---> 76\u001b[1;33m     \u001b[1;32mreturn\u001b[0m \u001b[0mrequest\u001b[0m\u001b[1;33m(\u001b[0m\u001b[1;34m'get'\u001b[0m\u001b[1;33m,\u001b[0m \u001b[0murl\u001b[0m\u001b[1;33m,\u001b[0m \u001b[0mparams\u001b[0m\u001b[1;33m=\u001b[0m\u001b[0mparams\u001b[0m\u001b[1;33m,\u001b[0m \u001b[1;33m**\u001b[0m\u001b[0mkwargs\u001b[0m\u001b[1;33m)\u001b[0m\u001b[1;33m\u001b[0m\u001b[1;33m\u001b[0m\u001b[0m\n\u001b[0m\u001b[0;32m     77\u001b[0m \u001b[1;33m\u001b[0m\u001b[0m\n\u001b[0;32m     78\u001b[0m \u001b[1;33m\u001b[0m\u001b[0m\n",
      "\u001b[1;32m~\\anaconda3\\lib\\site-packages\\requests\\api.py\u001b[0m in \u001b[0;36mrequest\u001b[1;34m(method, url, **kwargs)\u001b[0m\n\u001b[0;32m     59\u001b[0m     \u001b[1;31m# cases, and look like a memory leak in others.\u001b[0m\u001b[1;33m\u001b[0m\u001b[1;33m\u001b[0m\u001b[1;33m\u001b[0m\u001b[0m\n\u001b[0;32m     60\u001b[0m     \u001b[1;32mwith\u001b[0m \u001b[0msessions\u001b[0m\u001b[1;33m.\u001b[0m\u001b[0mSession\u001b[0m\u001b[1;33m(\u001b[0m\u001b[1;33m)\u001b[0m \u001b[1;32mas\u001b[0m \u001b[0msession\u001b[0m\u001b[1;33m:\u001b[0m\u001b[1;33m\u001b[0m\u001b[1;33m\u001b[0m\u001b[0m\n\u001b[1;32m---> 61\u001b[1;33m         \u001b[1;32mreturn\u001b[0m \u001b[0msession\u001b[0m\u001b[1;33m.\u001b[0m\u001b[0mrequest\u001b[0m\u001b[1;33m(\u001b[0m\u001b[0mmethod\u001b[0m\u001b[1;33m=\u001b[0m\u001b[0mmethod\u001b[0m\u001b[1;33m,\u001b[0m \u001b[0murl\u001b[0m\u001b[1;33m=\u001b[0m\u001b[0murl\u001b[0m\u001b[1;33m,\u001b[0m \u001b[1;33m**\u001b[0m\u001b[0mkwargs\u001b[0m\u001b[1;33m)\u001b[0m\u001b[1;33m\u001b[0m\u001b[1;33m\u001b[0m\u001b[0m\n\u001b[0m\u001b[0;32m     62\u001b[0m \u001b[1;33m\u001b[0m\u001b[0m\n\u001b[0;32m     63\u001b[0m \u001b[1;33m\u001b[0m\u001b[0m\n",
      "\u001b[1;32m~\\anaconda3\\lib\\site-packages\\requests\\sessions.py\u001b[0m in \u001b[0;36mrequest\u001b[1;34m(self, method, url, params, data, headers, cookies, files, auth, timeout, allow_redirects, proxies, hooks, stream, verify, cert, json)\u001b[0m\n\u001b[0;32m    528\u001b[0m         }\n\u001b[0;32m    529\u001b[0m         \u001b[0msend_kwargs\u001b[0m\u001b[1;33m.\u001b[0m\u001b[0mupdate\u001b[0m\u001b[1;33m(\u001b[0m\u001b[0msettings\u001b[0m\u001b[1;33m)\u001b[0m\u001b[1;33m\u001b[0m\u001b[1;33m\u001b[0m\u001b[0m\n\u001b[1;32m--> 530\u001b[1;33m         \u001b[0mresp\u001b[0m \u001b[1;33m=\u001b[0m \u001b[0mself\u001b[0m\u001b[1;33m.\u001b[0m\u001b[0msend\u001b[0m\u001b[1;33m(\u001b[0m\u001b[0mprep\u001b[0m\u001b[1;33m,\u001b[0m \u001b[1;33m**\u001b[0m\u001b[0msend_kwargs\u001b[0m\u001b[1;33m)\u001b[0m\u001b[1;33m\u001b[0m\u001b[1;33m\u001b[0m\u001b[0m\n\u001b[0m\u001b[0;32m    531\u001b[0m \u001b[1;33m\u001b[0m\u001b[0m\n\u001b[0;32m    532\u001b[0m         \u001b[1;32mreturn\u001b[0m \u001b[0mresp\u001b[0m\u001b[1;33m\u001b[0m\u001b[1;33m\u001b[0m\u001b[0m\n",
      "\u001b[1;32m~\\anaconda3\\lib\\site-packages\\requests\\sessions.py\u001b[0m in \u001b[0;36msend\u001b[1;34m(self, request, **kwargs)\u001b[0m\n\u001b[0;32m    641\u001b[0m \u001b[1;33m\u001b[0m\u001b[0m\n\u001b[0;32m    642\u001b[0m         \u001b[1;31m# Send the request\u001b[0m\u001b[1;33m\u001b[0m\u001b[1;33m\u001b[0m\u001b[1;33m\u001b[0m\u001b[0m\n\u001b[1;32m--> 643\u001b[1;33m         \u001b[0mr\u001b[0m \u001b[1;33m=\u001b[0m \u001b[0madapter\u001b[0m\u001b[1;33m.\u001b[0m\u001b[0msend\u001b[0m\u001b[1;33m(\u001b[0m\u001b[0mrequest\u001b[0m\u001b[1;33m,\u001b[0m \u001b[1;33m**\u001b[0m\u001b[0mkwargs\u001b[0m\u001b[1;33m)\u001b[0m\u001b[1;33m\u001b[0m\u001b[1;33m\u001b[0m\u001b[0m\n\u001b[0m\u001b[0;32m    644\u001b[0m \u001b[1;33m\u001b[0m\u001b[0m\n\u001b[0;32m    645\u001b[0m         \u001b[1;31m# Total elapsed time of the request (approximately)\u001b[0m\u001b[1;33m\u001b[0m\u001b[1;33m\u001b[0m\u001b[1;33m\u001b[0m\u001b[0m\n",
      "\u001b[1;32m~\\anaconda3\\lib\\site-packages\\requests\\adapters.py\u001b[0m in \u001b[0;36msend\u001b[1;34m(self, request, stream, timeout, verify, cert, proxies)\u001b[0m\n\u001b[0;32m    514\u001b[0m                 \u001b[1;32mraise\u001b[0m \u001b[0mSSLError\u001b[0m\u001b[1;33m(\u001b[0m\u001b[0me\u001b[0m\u001b[1;33m,\u001b[0m \u001b[0mrequest\u001b[0m\u001b[1;33m=\u001b[0m\u001b[0mrequest\u001b[0m\u001b[1;33m)\u001b[0m\u001b[1;33m\u001b[0m\u001b[1;33m\u001b[0m\u001b[0m\n\u001b[0;32m    515\u001b[0m \u001b[1;33m\u001b[0m\u001b[0m\n\u001b[1;32m--> 516\u001b[1;33m             \u001b[1;32mraise\u001b[0m \u001b[0mConnectionError\u001b[0m\u001b[1;33m(\u001b[0m\u001b[0me\u001b[0m\u001b[1;33m,\u001b[0m \u001b[0mrequest\u001b[0m\u001b[1;33m=\u001b[0m\u001b[0mrequest\u001b[0m\u001b[1;33m)\u001b[0m\u001b[1;33m\u001b[0m\u001b[1;33m\u001b[0m\u001b[0m\n\u001b[0m\u001b[0;32m    517\u001b[0m \u001b[1;33m\u001b[0m\u001b[0m\n\u001b[0;32m    518\u001b[0m         \u001b[1;32mexcept\u001b[0m \u001b[0mClosedPoolError\u001b[0m \u001b[1;32mas\u001b[0m \u001b[0me\u001b[0m\u001b[1;33m:\u001b[0m\u001b[1;33m\u001b[0m\u001b[1;33m\u001b[0m\u001b[0m\n",
      "\u001b[1;31mConnectionError\u001b[0m: HTTPSConnectionPool(host='www.yelp.com', port=443): Max retries exceeded with url: /biz/radegast-hall-and-biergarten-brooklyn?adjust_creative=iiD4cWOR-Fz3fX4le1knTg&utm_campaign=yelp_api_v3&utm_medium=api_v3_business_search&utm_source=iiD4cWOR-Fz3fX4le1knTg&start=280 (Caused by NewConnectionError('<urllib3.connection.VerifiedHTTPSConnection object at 0x0000022F5E11CA48>: Failed to establish a new connection: [Errno 11001] getaddrinfo failed'))"
     ]
    }
   ],
   "source": [
    "# loop through the function constantly changing the url using the list of hyperlinks\n",
    "# created earlier\n",
    "\n",
    "for link in df.url.values[14:]:\n",
    "    c=0\n",
    "    \n",
    "    while c < (df[df['url']==link]['Reviews'].values[0]) and c<100:\n",
    "        url = link + '&start={}'.format(c)\n",
    "        if (len(restaurant_review_list)//3000)%2==1:\n",
    "            time.sleep(1)\n",
    "        each_review(url)\n",
    "        c+=20"
   ]
  },
  {
   "cell_type": "code",
   "execution_count": 120,
   "metadata": {},
   "outputs": [
    {
     "data": {
      "text/plain": [
       "{'url': 'https://www.yelp.com/biz/lims-kitchen-long-island-city-2?adjust_creative=iiD4cWOR-Fz3fX4le1knTg&utm_campaign=yelp_api_v3&utm_medium=api_v3_business_search&utm_source=iiD4cWOR-Fz3fX4le1knTg',\n",
       " 'user_review': \"To my knowledge, this place opened up right around this whole covid craziness happened, and I cannot say this enough:what a WONDERFUL addition to LIC, and I say this with my WHOLE CHEST!!You can taste the authenticity in this food, made with all the steps like a grandma would make it, all without the insanely inflated prices you find in koreatown. They've got everything you crave that's korean: ooey gooey ddukbogi rice cakes, crispy crunchy sweet chicken wings, and heart warming tofu soups and fried rice/noodles. Our soy chicken wings were marvelously crispy without being greasy; they thoughtfully packed it so air could escape from the container without making the chicken soggy en route to your home. i also ordered a beef seafood soup, and it tasted exactly like the tofu soup i love and remember eating growing up; i had not been able to find a place that had that depth of flavor, but i am so thankful i can now purchase this just a few blocks from where i live. they also filled our order to the brim with banchan/appetizer/pickled side dishes and miso soup. Was not expecting to receive this much, but it really rounded out our meal. the kimbaps are great and affordable options to snack on or have a quick lunch as well. we got the shrimp tempura and the bulgogi bc i have no self control. i will thank myself later as i munch on them the rest of the week :)In our 100% accurate order, we even received a chocopie and seaweed with the sweetest handwritten thank you note. It was also prepared quite quickly (within 15 minutes!). When picking up your own food, head around to the side (there will be signs directing you where to go and what doorbell to ring). Right now they're only taking online orders through third party sites (Seamless, Yelp etc), so you can't call in orders from your personal phone. I sincerely, genuinely hope this place makes it through these terrible times and becomes a thriving staple of LIC. I literally just put away the leftovers from this wonderful meal and had to write this review.tl;drYou will not regret supporting this delicious kitchen; I can't wait to keep coming back again and again.\"}"
      ]
     },
     "execution_count": 120,
     "metadata": {},
     "output_type": "execute_result"
    }
   ],
   "source": [
    "restaurant_review_list[300]"
   ]
  },
  {
   "cell_type": "code",
   "execution_count": 123,
   "metadata": {},
   "outputs": [
    {
     "data": {
      "text/plain": [
       "1"
      ]
     },
     "execution_count": 123,
     "metadata": {},
     "output_type": "execute_result"
    }
   ],
   "source": [
    "(len(restaurant_review_list)//3000)%2"
   ]
  },
  {
   "cell_type": "code",
   "execution_count": 124,
   "metadata": {},
   "outputs": [],
   "source": [
    "# store the list of dictionaries into a dataframe\n",
    "\n",
    "df_temp = pd.DataFrame(restaurant_review_list)\n",
    "\n",
    "# store the dataframe as a csv file\n",
    "\n",
    "df_temp.to_csv('restaurant_reviews01.csv')"
   ]
  },
  {
   "cell_type": "code",
   "execution_count": null,
   "metadata": {},
   "outputs": [],
   "source": []
  }
 ],
 "metadata": {
  "kernelspec": {
   "display_name": "Python 3",
   "language": "python",
   "name": "python3"
  },
  "language_info": {
   "codemirror_mode": {
    "name": "ipython",
    "version": 3
   },
   "file_extension": ".py",
   "mimetype": "text/x-python",
   "name": "python",
   "nbconvert_exporter": "python",
   "pygments_lexer": "ipython3",
   "version": "3.7.7"
  }
 },
 "nbformat": 4,
 "nbformat_minor": 4
}
